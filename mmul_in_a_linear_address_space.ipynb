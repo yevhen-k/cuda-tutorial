{
 "cells": [
  {
   "cell_type": "code",
   "execution_count": 1,
   "metadata": {},
   "outputs": [],
   "source": [
    "import numpy as np"
   ]
  },
  {
   "cell_type": "code",
   "execution_count": 3,
   "metadata": {},
   "outputs": [
    {
     "data": {
      "text/plain": [
       "array([[ 50,  60],\n",
       "       [114, 140],\n",
       "       [178, 220]])"
      ]
     },
     "execution_count": 3,
     "metadata": {},
     "output_type": "execute_result"
    }
   ],
   "source": [
    "A = np.array([\n",
    "    [1,2,3,4],\n",
    "    [5,6,7,8],\n",
    "    [9,10,11,12],\n",
    "])\n",
    "\n",
    "B = np.array([\n",
    "    [1,2],\n",
    "    [3,4],\n",
    "    [5,6],\n",
    "    [7,8]\n",
    "])\n",
    "\n",
    "AB = np.matmul(A, B)\n",
    "AB"
   ]
  },
  {
   "cell_type": "code",
   "execution_count": 9,
   "metadata": {},
   "outputs": [],
   "source": [
    "Af = np.array([1,2,3,4,5,6,7,8,9,10,11,12])\n",
    "Bf = np.array([1,2,3,4,5,6,7,8])\n",
    "\n",
    "Arows = 3\n",
    "Acols = 4\n",
    "\n",
    "Brows = 4\n",
    "Bcols = 2\n",
    "\n",
    "# the same is ID = Brows\n",
    "ID = Acols\n",
    "\n",
    "Cf = np.zeros(6)\n",
    "\n",
    "for row in range(Arows):\n",
    "    for col in range(Bcols):\n",
    "        for k in range(ID):\n",
    "            Cf[row*Bcols + col] += Af[row*Acols + k] * Bf[k*Bcols + col]"
   ]
  },
  {
   "cell_type": "code",
   "execution_count": 10,
   "metadata": {},
   "outputs": [
    {
     "data": {
      "text/plain": [
       "array([ 50.,  60., 114., 140., 178., 220.])"
      ]
     },
     "execution_count": 10,
     "metadata": {},
     "output_type": "execute_result"
    }
   ],
   "source": [
    "Cf"
   ]
  },
  {
   "cell_type": "code",
   "execution_count": 11,
   "metadata": {},
   "outputs": [
    {
     "data": {
      "text/plain": [
       "array([[ 50.,  60.],\n",
       "       [114., 140.],\n",
       "       [178., 220.]])"
      ]
     },
     "execution_count": 11,
     "metadata": {},
     "output_type": "execute_result"
    }
   ],
   "source": [
    "Cf.reshape([3, 2])"
   ]
  },
  {
   "cell_type": "markdown",
   "metadata": {},
   "source": [
    "Compare `C` and reshaped `Cf`. They are the same despite the fact `Cf` was calculated on a \"linear\" address space."
   ]
  }
 ],
 "metadata": {
  "kernelspec": {
   "display_name": "Python 3",
   "language": "python",
   "name": "python3"
  },
  "language_info": {
   "codemirror_mode": {
    "name": "ipython",
    "version": 3
   },
   "file_extension": ".py",
   "mimetype": "text/x-python",
   "name": "python",
   "nbconvert_exporter": "python",
   "pygments_lexer": "ipython3",
   "version": "3.7.3"
  }
 },
 "nbformat": 4,
 "nbformat_minor": 4
}
